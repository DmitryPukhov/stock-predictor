{
 "cells": [
  {
   "cell_type": "markdown",
   "metadata": {},
   "source": [
    "# Stock exchange prediction for fun"
   ]
  },
  {
   "cell_type": "markdown",
   "metadata": {},
   "source": [
    "Import libraries"
   ]
  },
  {
   "cell_type": "code",
   "execution_count": 191,
   "metadata": {},
   "outputs": [],
   "source": [
    "import pandas as pd\n",
    "import matplotlib.pyplot as plt\n",
    "import matplotlib.dates as mdates\n",
    "import seaborn as sns\n"
   ]
  },
  {
   "cell_type": "markdown",
   "metadata": {},
   "source": [
    "Read and prepare OHLC data, 5 minute bars"
   ]
  },
  {
   "cell_type": "code",
   "execution_count": 1,
   "metadata": {},
   "outputs": [
    {
     "ename": "NameError",
     "evalue": "name 'pd' is not defined",
     "output_type": "error",
     "traceback": [
      "\u001b[0;31m---------------------------------------------------------------------------\u001b[0m",
      "\u001b[0;31mNameError\u001b[0m                                 Traceback (most recent call last)",
      "\u001b[0;32m<ipython-input-1-dfb0cf1f91fc>\u001b[0m in \u001b[0;36m<module>\u001b[0;34m()\u001b[0m\n\u001b[1;32m      1\u001b[0m \u001b[0;31m# Read 1M OHLCV data from file instead of pdr.DataReader('RTSI','moex',start,end) because moex network source doesn't allow often downloads\u001b[0m\u001b[0;34m\u001b[0m\u001b[0;34m\u001b[0m\u001b[0m\n\u001b[0;32m----> 2\u001b[0;31m df=pd.read_csv(\"/home/dima/projects/stock-predictor/src/main/ipynb/data/RI.RTSI_180101_180313.csv\", \n\u001b[0m\u001b[1;32m      3\u001b[0m                \u001b[0mparse_dates\u001b[0m\u001b[0;34m=\u001b[0m\u001b[0;34m{\u001b[0m\u001b[0;34m'datetime'\u001b[0m\u001b[0;34m:\u001b[0m\u001b[0;34m[\u001b[0m\u001b[0;36m2\u001b[0m\u001b[0;34m,\u001b[0m\u001b[0;36m3\u001b[0m\u001b[0;34m]\u001b[0m\u001b[0;34m}\u001b[0m\u001b[0;34m,\u001b[0m\u001b[0;34m\u001b[0m\u001b[0m\n\u001b[1;32m      4\u001b[0m                index_col='datetime')\n\u001b[1;32m      5\u001b[0m \u001b[0;31m#df=df.loc['2018-01-09']\u001b[0m\u001b[0;34m\u001b[0m\u001b[0;34m\u001b[0m\u001b[0m\n",
      "\u001b[0;31mNameError\u001b[0m: name 'pd' is not defined"
     ]
    }
   ],
   "source": [
    "# Read 1M OHLCV data from file instead of pdr.DataReader('RTSI','moex',start,end) because moex network source doesn't allow often downloads\n",
    "#file=\"/home/dima/projects/stock-predictor/src/main/ipynb/data/RI.RTSI_180101_180313.csv\"\n",
    "df=pd.read_csv(\"/home/dima/projects/stock-predictor/data/RI.RTSI_180101_180313.csv\", \n",
    "               parse_dates={'datetime':[2,3]}, \n",
    "               index_col='datetime')\n",
    "#df=df.loc['2018-01-09']\n",
    "df=df[['<OPEN>','<HIGH>','<LOW>','<CLOSE>','<VOL>']].pct_change()\n",
    "\n",
    "df.columns=['open','high','low','close','vol']\n",
    "# Resample 1Min OHLC to 5Min OHLC\n",
    "df=df.resample('5Min').agg({\n",
    "        'open': 'first', \n",
    "        'high': 'max', \n",
    "        'low': 'min', \n",
    "        'close': 'last',\n",
    "        'vol': 'sum'})\n",
    "df=df.dropna()\n",
    "df.tail()"
   ]
  },
  {
   "cell_type": "markdown",
   "metadata": {},
   "source": [
    "Prepare predictors and target\n"
   ]
  },
  {
   "cell_type": "code",
   "execution_count": 193,
   "metadata": {},
   "outputs": [],
   "source": [
    "predictors=df.reset_index().drop(['datetime'],axis=1)\n",
    "target=predictors.shift(-1)[['high','low']][:-1]\n",
    "predictors=predictors[:-1]\n"
   ]
  },
  {
   "cell_type": "code",
   "execution_count": 194,
   "metadata": {},
   "outputs": [
    {
     "data": {
      "text/html": [
       "<div>\n",
       "<style scoped>\n",
       "    .dataframe tbody tr th:only-of-type {\n",
       "        vertical-align: middle;\n",
       "    }\n",
       "\n",
       "    .dataframe tbody tr th {\n",
       "        vertical-align: top;\n",
       "    }\n",
       "\n",
       "    .dataframe thead th {\n",
       "        text-align: right;\n",
       "    }\n",
       "</style>\n",
       "<table border=\"1\" class=\"dataframe\">\n",
       "  <thead>\n",
       "    <tr style=\"text-align: right;\">\n",
       "      <th></th>\n",
       "      <th>open</th>\n",
       "      <th>high</th>\n",
       "      <th>low</th>\n",
       "      <th>close</th>\n",
       "      <th>vol</th>\n",
       "    </tr>\n",
       "  </thead>\n",
       "  <tbody>\n",
       "    <tr>\n",
       "      <th>4886</th>\n",
       "      <td>-0.000179</td>\n",
       "      <td>0.000507</td>\n",
       "      <td>-0.000101</td>\n",
       "      <td>0.000413</td>\n",
       "      <td>0.043194</td>\n",
       "    </tr>\n",
       "    <tr>\n",
       "      <th>4887</th>\n",
       "      <td>0.000406</td>\n",
       "      <td>0.000242</td>\n",
       "      <td>-0.000429</td>\n",
       "      <td>0.000117</td>\n",
       "      <td>0.784008</td>\n",
       "    </tr>\n",
       "    <tr>\n",
       "      <th>4888</th>\n",
       "      <td>0.000062</td>\n",
       "      <td>0.001162</td>\n",
       "      <td>0.000078</td>\n",
       "      <td>-0.000132</td>\n",
       "      <td>0.030271</td>\n",
       "    </tr>\n",
       "    <tr>\n",
       "      <th>4889</th>\n",
       "      <td>-0.000125</td>\n",
       "      <td>-0.000164</td>\n",
       "      <td>-0.000483</td>\n",
       "      <td>0.000016</td>\n",
       "      <td>0.697699</td>\n",
       "    </tr>\n",
       "    <tr>\n",
       "      <th>4890</th>\n",
       "      <td>0.000070</td>\n",
       "      <td>0.000210</td>\n",
       "      <td>0.000226</td>\n",
       "      <td>0.000000</td>\n",
       "      <td>-1.027860</td>\n",
       "    </tr>\n",
       "  </tbody>\n",
       "</table>\n",
       "</div>"
      ],
      "text/plain": [
       "          open      high       low     close       vol\n",
       "4886 -0.000179  0.000507 -0.000101  0.000413  0.043194\n",
       "4887  0.000406  0.000242 -0.000429  0.000117  0.784008\n",
       "4888  0.000062  0.001162  0.000078 -0.000132  0.030271\n",
       "4889 -0.000125 -0.000164 -0.000483  0.000016  0.697699\n",
       "4890  0.000070  0.000210  0.000226  0.000000 -1.027860"
      ]
     },
     "execution_count": 194,
     "metadata": {},
     "output_type": "execute_result"
    }
   ],
   "source": [
    "predictors.tail()"
   ]
  },
  {
   "cell_type": "code",
   "execution_count": 195,
   "metadata": {},
   "outputs": [
    {
     "data": {
      "text/html": [
       "<div>\n",
       "<style scoped>\n",
       "    .dataframe tbody tr th:only-of-type {\n",
       "        vertical-align: middle;\n",
       "    }\n",
       "\n",
       "    .dataframe tbody tr th {\n",
       "        vertical-align: top;\n",
       "    }\n",
       "\n",
       "    .dataframe thead th {\n",
       "        text-align: right;\n",
       "    }\n",
       "</style>\n",
       "<table border=\"1\" class=\"dataframe\">\n",
       "  <thead>\n",
       "    <tr style=\"text-align: right;\">\n",
       "      <th></th>\n",
       "      <th>high</th>\n",
       "      <th>low</th>\n",
       "    </tr>\n",
       "  </thead>\n",
       "  <tbody>\n",
       "    <tr>\n",
       "      <th>4886</th>\n",
       "      <td>0.000242</td>\n",
       "      <td>-0.000429</td>\n",
       "    </tr>\n",
       "    <tr>\n",
       "      <th>4887</th>\n",
       "      <td>0.001162</td>\n",
       "      <td>0.000078</td>\n",
       "    </tr>\n",
       "    <tr>\n",
       "      <th>4888</th>\n",
       "      <td>-0.000164</td>\n",
       "      <td>-0.000483</td>\n",
       "    </tr>\n",
       "    <tr>\n",
       "      <th>4889</th>\n",
       "      <td>0.000210</td>\n",
       "      <td>0.000226</td>\n",
       "    </tr>\n",
       "    <tr>\n",
       "      <th>4890</th>\n",
       "      <td>0.002018</td>\n",
       "      <td>0.002018</td>\n",
       "    </tr>\n",
       "  </tbody>\n",
       "</table>\n",
       "</div>"
      ],
      "text/plain": [
       "          high       low\n",
       "4886  0.000242 -0.000429\n",
       "4887  0.001162  0.000078\n",
       "4888 -0.000164 -0.000483\n",
       "4889  0.000210  0.000226\n",
       "4890  0.002018  0.002018"
      ]
     },
     "execution_count": 195,
     "metadata": {},
     "output_type": "execute_result"
    }
   ],
   "source": [
    "target.tail()"
   ]
  },
  {
   "cell_type": "markdown",
   "metadata": {},
   "source": [
    "Predict with neural network"
   ]
  },
  {
   "cell_type": "code",
   "execution_count": 196,
   "metadata": {},
   "outputs": [
    {
     "name": "stdout",
     "output_type": "stream",
     "text": [
      "Train on 2396 samples, validate on 1027 samples\n",
      "Epoch 1/20\n",
      "2396/2396 [==============================] - 2s 689us/step - loss: nan - acc: 0.9896 - val_loss: nan - val_acc: 0.9971\n",
      "Epoch 2/20\n",
      "2396/2396 [==============================] - 0s 47us/step - loss: nan - acc: 0.9979 - val_loss: nan - val_acc: 0.9971\n",
      "Epoch 3/20\n",
      "2396/2396 [==============================] - 0s 48us/step - loss: nan - acc: 0.9979 - val_loss: nan - val_acc: 0.9971\n",
      "Epoch 4/20\n",
      "2396/2396 [==============================] - 0s 47us/step - loss: nan - acc: 0.9979 - val_loss: nan - val_acc: 0.9971\n",
      "Epoch 5/20\n",
      "2396/2396 [==============================] - 0s 49us/step - loss: nan - acc: 0.9979 - val_loss: nan - val_acc: 0.9971\n",
      "Epoch 6/20\n",
      "2396/2396 [==============================] - 0s 48us/step - loss: nan - acc: 0.9979 - val_loss: nan - val_acc: 0.9971\n",
      "Epoch 7/20\n",
      "2396/2396 [==============================] - 0s 48us/step - loss: nan - acc: 0.9979 - val_loss: nan - val_acc: 0.9971\n",
      "Epoch 8/20\n",
      "2396/2396 [==============================] - 0s 48us/step - loss: nan - acc: 0.9979 - val_loss: nan - val_acc: 0.9971\n",
      "Epoch 9/20\n",
      "2396/2396 [==============================] - 0s 47us/step - loss: nan - acc: 0.9979 - val_loss: nan - val_acc: 0.9971\n",
      "Epoch 10/20\n",
      "2396/2396 [==============================] - 0s 46us/step - loss: nan - acc: 0.9979 - val_loss: nan - val_acc: 0.9971\n",
      "Epoch 11/20\n",
      "2396/2396 [==============================] - 0s 47us/step - loss: nan - acc: 0.9979 - val_loss: nan - val_acc: 0.9971\n",
      "Epoch 12/20\n",
      "2396/2396 [==============================] - 0s 46us/step - loss: nan - acc: 0.9979 - val_loss: nan - val_acc: 0.9971\n",
      "Epoch 13/20\n",
      "2396/2396 [==============================] - 0s 47us/step - loss: nan - acc: 0.9979 - val_loss: nan - val_acc: 0.9971\n",
      "Epoch 14/20\n",
      "2396/2396 [==============================] - 0s 48us/step - loss: nan - acc: 0.9979 - val_loss: nan - val_acc: 0.9971\n",
      "Epoch 15/20\n",
      "2396/2396 [==============================] - 0s 46us/step - loss: nan - acc: 0.9979 - val_loss: nan - val_acc: 0.9971\n",
      "Epoch 16/20\n",
      "2396/2396 [==============================] - 0s 48us/step - loss: nan - acc: 0.9979 - val_loss: nan - val_acc: 0.9971\n",
      "Epoch 17/20\n",
      "2396/2396 [==============================] - 0s 47us/step - loss: nan - acc: 0.9979 - val_loss: nan - val_acc: 0.9971\n",
      "Epoch 18/20\n",
      "2396/2396 [==============================] - 0s 47us/step - loss: nan - acc: 0.9979 - val_loss: nan - val_acc: 0.9971\n",
      "Epoch 19/20\n",
      "2396/2396 [==============================] - 0s 47us/step - loss: nan - acc: 0.9979 - val_loss: nan - val_acc: 0.9971\n",
      "Epoch 20/20\n",
      "2396/2396 [==============================] - 0s 47us/step - loss: nan - acc: 0.9979 - val_loss: nan - val_acc: 0.9971\n"
     ]
    },
    {
     "data": {
      "text/html": [
       "<div>\n",
       "<style scoped>\n",
       "    .dataframe tbody tr th:only-of-type {\n",
       "        vertical-align: middle;\n",
       "    }\n",
       "\n",
       "    .dataframe tbody tr th {\n",
       "        vertical-align: top;\n",
       "    }\n",
       "\n",
       "    .dataframe thead th {\n",
       "        text-align: right;\n",
       "    }\n",
       "</style>\n",
       "<table border=\"1\" class=\"dataframe\">\n",
       "  <thead>\n",
       "    <tr style=\"text-align: right;\">\n",
       "      <th></th>\n",
       "      <th>0</th>\n",
       "      <th>1</th>\n",
       "    </tr>\n",
       "  </thead>\n",
       "  <tbody>\n",
       "    <tr>\n",
       "      <th>1463</th>\n",
       "      <td>NaN</td>\n",
       "      <td>NaN</td>\n",
       "    </tr>\n",
       "    <tr>\n",
       "      <th>1464</th>\n",
       "      <td>NaN</td>\n",
       "      <td>NaN</td>\n",
       "    </tr>\n",
       "    <tr>\n",
       "      <th>1465</th>\n",
       "      <td>NaN</td>\n",
       "      <td>NaN</td>\n",
       "    </tr>\n",
       "    <tr>\n",
       "      <th>1466</th>\n",
       "      <td>NaN</td>\n",
       "      <td>NaN</td>\n",
       "    </tr>\n",
       "    <tr>\n",
       "      <th>1467</th>\n",
       "      <td>NaN</td>\n",
       "      <td>NaN</td>\n",
       "    </tr>\n",
       "  </tbody>\n",
       "</table>\n",
       "</div>"
      ],
      "text/plain": [
       "       0   1\n",
       "1463 NaN NaN\n",
       "1464 NaN NaN\n",
       "1465 NaN NaN\n",
       "1466 NaN NaN\n",
       "1467 NaN NaN"
      ]
     },
     "execution_count": 196,
     "metadata": {},
     "output_type": "execute_result"
    }
   ],
   "source": [
    "import numpy as np\n",
    "import keras\n",
    "from keras.layers import Dense,BatchNormalization\n",
    "from keras.models import Sequential\n",
    "from keras.callbacks import EarlyStopping\n",
    "from sklearn.model_selection import train_test_split\n",
    "\n",
    "# Split to train and test\n",
    "X_train, X_test, y_train, y_test = train_test_split(predictors, target, test_size=0.3, shuffle=False)\n",
    "\n",
    "# Create the model\n",
    "model=Sequential()\n",
    "n_cols = predictors.shape[1]\n",
    "#model.add(Dense(predictors.columns.size, activation='relu', input_shape=(n_cols,)))\n",
    "model.add(Dense(int(predictors.columns.size), batch_size=10))\n",
    "#model.add(Dense(int(predictors.columns.size), input_shape=(10,5)))\n",
    "#model.add(BatchNormalization())\n",
    "#model.add(Dense(50, input_dim=5, kernel_initializer='uniform'))\n",
    "#model.add(BatchNormalization())\n",
    "model.add(Dense(int(predictors.columns.size), activation='selu'))\n",
    "\n",
    "# High/Low prediction output\n",
    "model.add(Dense(2, activation='relu'))\n",
    "\n",
    "optimizer=keras.optimizers.Adam(lr=0.0001, beta_1=0.9, beta_2=0.999, epsilon=1e-8)\n",
    "model.compile(optimizer=optimizer, loss='mean_squared_error', metrics=['accuracy'])\n",
    "\n",
    "# Fit\n",
    "#early_stopping = EarlyStopping(patience=2)\n",
    "#model.fit(X_train.values, y_train.values, validation_split=0.3, epochs=30, callbacks=[early_stopping], shuffle=False, verbose=True)\n",
    "model.fit(X_train.values, y_train.values, validation_split=0.3, epochs=20, shuffle=True, verbose=True)\n",
    "\n",
    "# Predict\n",
    "y=model.predict(X_test)\n",
    "pd.DataFrame(y).tail()\n",
    "\n"
   ]
  },
  {
   "cell_type": "code",
   "execution_count": 197,
   "metadata": {},
   "outputs": [
    {
     "data": {
      "image/png": "[encoded data removed]",
      "text/plain": [
       "<matplotlib.figure.Figure at 0x7fcb224cb6d8>"
      ]
     },
     "metadata": {},
     "output_type": "display_data"
    }
   ],
   "source": [
    "\n",
    "\n",
    "#from mpl_finance import candlestick_ohlc\n",
    "plt.style.use('seaborn')\n",
    "#fig,ax = plt.subplots()\n",
    "#quotes=df.reset_index()\n",
    "#quotes.columns=['date','open','high','low','close','vol']\n",
    "#quotes=quotes[['date','open','high','low','close']]\n",
    "#quotes['date'] = quotes['date'].apply(mdates.date2num)\n",
    "#candlestick_ohlc(ax,quotes.values, width=.001, colorup='blue', colordown='green')\n",
    "#candlestick_ohlc(ax,quotes.values, width=.03, alpha=0.5, colorup='black', colordown='red')\n",
    "\n",
    "#plt.plot(df.index, df.high, marker='.', linestyle='solid', color='b', alpha=0.5, linewidth=1)\n",
    "#plt.plot(df.index, df.low, marker='.', linestyle='solid', color='green', alpha=0.5, linewidth=1)\n",
    "last_points=100\n",
    "original=pd.DataFrame(y_test).reset_index()[-last_points:]\n",
    "plt.plot(original['high'], marker='.', linestyle='solid', color='b', alpha=0.7, linewidth=1)\n",
    "plt.plot(original['low'], marker='.', linestyle='solid', color='green', alpha=0.7, linewidth=1)\n",
    "\n",
    "actual=pd.DataFrame(y, columns=['high','low']).reset_index()[-last_points:]\n",
    "plt.plot(actual['high'], marker='.', linestyle='solid', color='purple', alpha=1, linewidth=1)\n",
    "plt.plot(actual['low'], marker='.', linestyle='solid', color='red', alpha=1, linewidth=1)\n",
    "\n",
    "#plt.ylim(min(original['high']),max(original['high']))\n",
    "\n",
    "plt.title('Predicted price')\n",
    "plt.xlabel('Time')\n",
    "plt.xticks(rotation=45)\n",
    "plt.ylabel('Price')\n",
    "plt.legend()\n",
    "plt.show()"
   ]
  },
  {
   "cell_type": "markdown",
   "metadata": {},
   "source": [
    "The first result looks not very encouraging, doesn't it? :)"
   ]
  },
  {
   "cell_type": "markdown",
   "metadata": {},
   "source": [
    ".. To be continue ..."
   ]
  },
  {
   "cell_type": "code",
   "execution_count": null,
   "metadata": {},
   "outputs": [],
   "source": []
  },
  {
   "cell_type": "code",
   "execution_count": null,
   "metadata": {},
   "outputs": [],
   "source": []
  },
  {
   "cell_type": "code",
   "execution_count": null,
   "metadata": {},
   "outputs": [],
   "source": []
  },
  {
   "cell_type": "code",
   "execution_count": null,
   "metadata": {},
   "outputs": [],
   "source": []
  },
  {
   "cell_type": "code",
   "execution_count": null,
   "metadata": {},
   "outputs": [],
   "source": []
  },
  {
   "cell_type": "code",
   "execution_count": null,
   "metadata": {},
   "outputs": [],
   "source": []
  },
  {
   "cell_type": "code",
   "execution_count": null,
   "metadata": {},
   "outputs": [],
   "source": []
  }
 ],
 "metadata": {
  "kernelspec": {
   "display_name": "Python 3",
   "language": "python",
   "name": "python3"
  },
  "language_info": {
   "codemirror_mode": {
    "name": "ipython",
    "version": 3
   },
   "file_extension": ".py",
   "mimetype": "text/x-python",
   "name": "python",
   "nbconvert_exporter": "python",
   "pygments_lexer": "ipython3",
   "version": "3.6.4"
  }
 },
 "nbformat": 4,
 "nbformat_minor": 2
}

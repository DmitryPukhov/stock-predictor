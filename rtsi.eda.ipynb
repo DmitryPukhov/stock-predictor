{
 "cells": [
  {
   "cell_type": "markdown",
   "metadata": {},
   "source": [
    "# RTSI Index EDA"
   ]
  },
  {
   "cell_type": "markdown",
   "metadata": {},
   "source": [
    "## TOC"
   ]
  },
  {
   "cell_type": "markdown",
   "metadata": {},
   "source": [
    "## Imports"
   ]
  },
  {
   "cell_type": "code",
   "execution_count": 1,
   "metadata": {},
   "outputs": [
    {
     "ename": "ModuleNotFoundError",
     "evalue": "No module named 'pandas_datareader'",
     "output_type": "error",
     "traceback": [
      "\u001b[0;31m---------------------------------------------------------------------------\u001b[0m",
      "\u001b[0;31mModuleNotFoundError\u001b[0m                       Traceback (most recent call last)",
      "\u001b[0;32m<ipython-input-1-086da5f55dd7>\u001b[0m in \u001b[0;36m<module>\u001b[0;34m()\u001b[0m\n\u001b[1;32m      1\u001b[0m \u001b[0;32mimport\u001b[0m \u001b[0mpandas\u001b[0m \u001b[0;32mas\u001b[0m \u001b[0mpd\u001b[0m\u001b[0;34m\u001b[0m\u001b[0m\n\u001b[1;32m      2\u001b[0m \u001b[0;32mimport\u001b[0m \u001b[0mnumpy\u001b[0m \u001b[0;32mas\u001b[0m \u001b[0mnp\u001b[0m\u001b[0;34m\u001b[0m\u001b[0m\n\u001b[0;32m----> 3\u001b[0;31m \u001b[0;32mfrom\u001b[0m \u001b[0mpandas_datareader\u001b[0m\u001b[0;34m.\u001b[0m\u001b[0mdata\u001b[0m \u001b[0;32mimport\u001b[0m \u001b[0mDataReader\u001b[0m\u001b[0;34m\u001b[0m\u001b[0m\n\u001b[0m\u001b[1;32m      4\u001b[0m \u001b[0;32mimport\u001b[0m \u001b[0mseaborn\u001b[0m \u001b[0;32mas\u001b[0m \u001b[0msns\u001b[0m\u001b[0;34m\u001b[0m\u001b[0m\n\u001b[1;32m      5\u001b[0m \u001b[0;32mimport\u001b[0m \u001b[0mmatplotlib\u001b[0m\u001b[0;34m.\u001b[0m\u001b[0mpyplot\u001b[0m \u001b[0;32mas\u001b[0m \u001b[0mplt\u001b[0m\u001b[0;34m\u001b[0m\u001b[0m\n",
      "\u001b[0;31mModuleNotFoundError\u001b[0m: No module named 'pandas_datareader'"
     ]
    }
   ],
   "source": [
    "import pandas as pd\n",
    "import numpy as np\n",
    "from pandas_datareader.data import DataReader\n",
    "import seaborn as sns\n",
    "import matplotlib.pyplot as plt\n",
    "from matplotlib.ticker import MaxNLocator\n",
    "from statsmodels.graphics import tsaplots\n",
    "import statsmodels.api as sm\n",
    "from pylab import rcParams\n",
    "import time\n",
    "plt.style.use('fivethirtyeight')"
   ]
  },
  {
   "cell_type": "markdown",
   "metadata": {},
   "source": [
    "## Read RTSI Index data"
   ]
  },
  {
   "cell_type": "code",
   "execution_count": null,
   "metadata": {},
   "outputs": [],
   "source": []
  },
  {
   "cell_type": "code",
   "execution_count": null,
   "metadata": {},
   "outputs": [],
   "source": [
    "def read_csv_rtsi():\n",
    "    '''Moex from datareader doesn't provide intraday data, so read from downloaded csv'''\n",
    "    url=\"https://raw.githubusercontent.com/DmitryPukhov/stock-predictor/master/data/RI.RTSI_180101_180313.csv\"\n",
    "    #ohlcv=pd.read_csv(\"/home/dima/projects/stock-predictor/data/RI.RTSI_180101_180313.csv\", \n",
    "    ohlcv=pd.read_csv(url,\n",
    "               parse_dates={'datetime':['<DATE>','<TIME>']}, \n",
    "               index_col='datetime', \n",
    "               usecols=['<DATE>','<TIME>','<OPEN>','<HIGH>','<LOW>','<CLOSE>','<VOL>'])\n",
    "    ohlcv.columns=['open','high','low','close','vol']\n",
    "    return ohlcv\n",
    "\n",
    "# Read daily data, no intraday\n",
    "ohlcv=read_csv_rtsi()\n",
    "df=pd.DataFrame(ohlcv.close.diff().dropna())\n",
    "df.tail()\n"
   ]
  },
  {
   "cell_type": "code",
   "execution_count": null,
   "metadata": {},
   "outputs": [],
   "source": [
    "df.info()"
   ]
  },
  {
   "cell_type": "code",
   "execution_count": null,
   "metadata": {},
   "outputs": [],
   "source": [
    "df.describe()"
   ]
  },
  {
   "cell_type": "markdown",
   "metadata": {},
   "source": [
    "## Price plot\n"
   ]
  },
  {
   "cell_type": "code",
   "execution_count": null,
   "metadata": {},
   "outputs": [],
   "source": [
    "rcParams['figure.figsize'] = 11,9\n",
    "ohlcv[['close', 'vol']].plot(secondary_y='vol', title='RTSI price and volume')\n",
    "plt.show()"
   ]
  },
  {
   "cell_type": "code",
   "execution_count": null,
   "metadata": {},
   "outputs": [],
   "source": [
    "ax = df.plot(marker='.', linestyle='none', markersize=1, fontsize=6, title='RTSI')\n",
    "plt.show()"
   ]
  },
  {
   "cell_type": "code",
   "execution_count": null,
   "metadata": {},
   "outputs": [],
   "source": [
    "fig=plt.figure()\n",
    "# Price boxplot\n",
    "ax1=fig.add_subplot(221, title='Price boxplot', ylabel='Price')\n",
    "df.boxplot(ax=ax1)\n",
    "\n",
    "# Price density plot\n",
    "ax2 = fig.add_subplot(222)\n",
    "df.plot(kind='density', ax=ax2, title='Price density')\n",
    "\n",
    "ax3 = fig.add_subplot(223)\n",
    "sns.distplot(df['close'], ax=ax3,bins=50,kde=False).set_title(\"Price distribution\")\n",
    "ax3.axvline(df['close'].mean(), ls='--', label='mean')\n",
    "#ax3.axvline(df['close'].median(), ls='--', label='median')\n",
    "#ax3.axvline(df['close'].quantile(0.25), ls='--', label='0.25%')\n",
    "#ax3.axvline(df['close'].quantile(0.25), ls='--', label='0.75%')\n",
    "\n",
    "\n",
    "ax3.legend()\n",
    "plt.tight_layout()\n",
    "plt.subplots_adjust(right=2)\n",
    "plt.show()"
   ]
  },
  {
   "cell_type": "code",
   "execution_count": null,
   "metadata": {},
   "outputs": [],
   "source": []
  },
  {
   "cell_type": "markdown",
   "metadata": {},
   "source": [
    "## Average % change, aggregated by week and day\n"
   ]
  },
  {
   "cell_type": "code",
   "execution_count": null,
   "metadata": {},
   "outputs": [],
   "source": [
    "# Plot % change by week day\n",
    "fig=plt.figure()\n",
    "ax1 = fig.add_subplot(121)\n",
    "df.groupby(df.index.dayofweek+1).mean().plot.bar(ax=ax1)\n",
    "ax1.xaxis.set_major_locator(MaxNLocator(integer=True))\n",
    "ax1.set_xlabel(\"Day of week\")\n",
    "ax1.set_ylabel(\"Diff\")\n",
    "ax1.set_title(\"Avg diff by day of week\")\n",
    "\n",
    "# Plot # change by hour of the day\n",
    "ax2=fig.add_subplot(122)\n",
    "df.groupby(df.index.hour).mean().plot.bar(ax=ax2)\n",
    "ax2.xaxis.set_major_locator(MaxNLocator(integer=True))\n",
    "ax2.set_xlabel(\"Day hour\")\n",
    "ax1.set_ylabel(\"Diff\")\n",
    "ax2.set_title(\"Avg diff by hour of the day\")\n",
    "plt.subplots_adjust(right=2)\n",
    "plt.show()\n"
   ]
  },
  {
   "cell_type": "markdown",
   "metadata": {},
   "source": [
    "## Autocorrelation and partial autocorrelatoin\n",
    "ToDo: normalize the data"
   ]
  },
  {
   "cell_type": "code",
   "execution_count": null,
   "metadata": {},
   "outputs": [],
   "source": [
    "# Plot % change by week day\n",
    "fig=plt.figure()\n",
    "ax1 = fig.add_subplot(121)\n",
    "tsaplots.plot_acf(df, lags=60, ax=ax1)\n",
    "\n",
    "# Plot # change by hour of the day\n",
    "ax2=fig.add_subplot(122)\n",
    "tsaplots.plot_pacf(df, lags=60, ax=ax2)\n",
    "\n",
    "plt.subplots_adjust(right=2)\n",
    "plt.show()"
   ]
  },
  {
   "cell_type": "markdown",
   "metadata": {},
   "source": [
    "## Seasonality, trend and noise\n",
    "Todo: detect seasonality properly"
   ]
  },
  {
   "cell_type": "code",
   "execution_count": null,
   "metadata": {},
   "outputs": [],
   "source": [
    "rcParams['figure.figsize'] = 11,9\n",
    "# 1200 minutes in a day\n",
    "decomposition = sm.tsa.seasonal_decompose(df, freq=1200)\n",
    "decomposition.plot()\n",
    "plt.show()"
   ]
  },
  {
   "cell_type": "code",
   "execution_count": null,
   "metadata": {},
   "outputs": [],
   "source": []
  },
  {
   "cell_type": "code",
   "execution_count": null,
   "metadata": {},
   "outputs": [],
   "source": []
  },
  {
   "cell_type": "code",
   "execution_count": null,
   "metadata": {},
   "outputs": [],
   "source": []
  }
 ],
 "metadata": {
  "kernelspec": {
   "display_name": "Python 3",
   "language": "python",
   "name": "python3"
  },
  "language_info": {
   "codemirror_mode": {
    "name": "ipython",
    "version": 3
   },
   "file_extension": ".py",
   "mimetype": "text/x-python",
   "name": "python",
   "nbconvert_exporter": "python",
   "pygments_lexer": "ipython3",
   "version": "3.7.0"
  }
 },
 "nbformat": 4,
 "nbformat_minor": 2
}

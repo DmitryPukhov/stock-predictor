{
 "cells": [
  {
   "cell_type": "markdown",
   "metadata": {},
   "source": [
    "# Stock exchange prediction for fun"
   ]
  },
  {
   "cell_type": "markdown",
   "metadata": {},
   "source": [
    "Import libraries"
   ]
  },
  {
   "cell_type": "code",
   "execution_count": 183,
   "metadata": {},
   "outputs": [],
   "source": [
    "import pandas as pd\n",
    "import matplotlib.pyplot as plt\n",
    "import matplotlib.dates as mdates\n",
    "import seaborn as sns\n"
   ]
  },
  {
   "cell_type": "markdown",
   "metadata": {},
   "source": [
    "Read and prepare OHLC data, 5 minute bars"
   ]
  },
  {
   "cell_type": "code",
   "execution_count": 184,
   "metadata": {},
   "outputs": [
    {
     "data": {
      "text/html": [
       "<div>\n",
       "<style>\n",
       "    .dataframe thead tr:only-child th {\n",
       "        text-align: right;\n",
       "    }\n",
       "\n",
       "    .dataframe thead th {\n",
       "        text-align: left;\n",
       "    }\n",
       "\n",
       "    .dataframe tbody tr th {\n",
       "        vertical-align: top;\n",
       "    }\n",
       "</style>\n",
       "<table border=\"1\" class=\"dataframe\">\n",
       "  <thead>\n",
       "    <tr style=\"text-align: right;\">\n",
       "      <th></th>\n",
       "      <th>open</th>\n",
       "      <th>high</th>\n",
       "      <th>low</th>\n",
       "      <th>close</th>\n",
       "      <th>vol</th>\n",
       "    </tr>\n",
       "    <tr>\n",
       "      <th>datetime</th>\n",
       "      <th></th>\n",
       "      <th></th>\n",
       "      <th></th>\n",
       "      <th></th>\n",
       "      <th></th>\n",
       "    </tr>\n",
       "  </thead>\n",
       "  <tbody>\n",
       "    <tr>\n",
       "      <th>2018-03-13 18:25:00</th>\n",
       "      <td>1282.69</td>\n",
       "      <td>1283.14</td>\n",
       "      <td>1281.92</td>\n",
       "      <td>1282.12</td>\n",
       "      <td>11017460.0</td>\n",
       "    </tr>\n",
       "    <tr>\n",
       "      <th>2018-03-13 18:30:00</th>\n",
       "      <td>1282.06</td>\n",
       "      <td>1285.36</td>\n",
       "      <td>1282.06</td>\n",
       "      <td>1284.80</td>\n",
       "      <td>12692191.0</td>\n",
       "    </tr>\n",
       "    <tr>\n",
       "      <th>2018-03-13 18:35:00</th>\n",
       "      <td>1284.80</td>\n",
       "      <td>1284.80</td>\n",
       "      <td>1282.52</td>\n",
       "      <td>1283.14</td>\n",
       "      <td>12809211.0</td>\n",
       "    </tr>\n",
       "    <tr>\n",
       "      <th>2018-03-13 18:40:00</th>\n",
       "      <td>1283.20</td>\n",
       "      <td>1283.46</td>\n",
       "      <td>1282.92</td>\n",
       "      <td>1283.21</td>\n",
       "      <td>3378532.0</td>\n",
       "    </tr>\n",
       "    <tr>\n",
       "      <th>2018-03-13 18:50:00</th>\n",
       "      <td>1285.80</td>\n",
       "      <td>1285.80</td>\n",
       "      <td>1285.80</td>\n",
       "      <td>1285.80</td>\n",
       "      <td>31243913.0</td>\n",
       "    </tr>\n",
       "  </tbody>\n",
       "</table>\n",
       "</div>"
      ],
      "text/plain": [
       "                        open     high      low    close         vol\n",
       "datetime                                                           \n",
       "2018-03-13 18:25:00  1282.69  1283.14  1281.92  1282.12  11017460.0\n",
       "2018-03-13 18:30:00  1282.06  1285.36  1282.06  1284.80  12692191.0\n",
       "2018-03-13 18:35:00  1284.80  1284.80  1282.52  1283.14  12809211.0\n",
       "2018-03-13 18:40:00  1283.20  1283.46  1282.92  1283.21   3378532.0\n",
       "2018-03-13 18:50:00  1285.80  1285.80  1285.80  1285.80  31243913.0"
      ]
     },
     "execution_count": 184,
     "metadata": {},
     "output_type": "execute_result"
    }
   ],
   "source": [
    "# Read 1M OHLCV data from file instead of pdr.DataReader('RTSI','moex',start,end) because moex network source doesn't allow often downloads\n",
    "df=pd.read_csv(\"/home/dima/projects/stock-predictor/data/RI.RTSI_180101_180313.csv\", \n",
    "               parse_dates={'datetime':[2,3]}, \n",
    "               index_col='datetime')\n",
    "#df=df.loc['2018-01-09']\n",
    "df=df[['<OPEN>','<HIGH>','<LOW>','<CLOSE>','<VOL>']]\n",
    "df.columns=['open','high','low','close','vol']\n",
    "# Resample 1Min OHLC to 5Min OHLC\n",
    "df=df.resample('5Min').agg({\n",
    "        'open': 'first', \n",
    "        'high': 'max', \n",
    "        'low': 'min', \n",
    "        'close': 'last',\n",
    "        'vol': 'sum'})\n",
    "df=df.dropna()\n",
    "df.tail()"
   ]
  },
  {
   "cell_type": "markdown",
   "metadata": {},
   "source": [
    "Create predictors from input data\n"
   ]
  },
  {
   "cell_type": "code",
   "execution_count": 185,
   "metadata": {},
   "outputs": [],
   "source": [
    "predictors=df.reset_index().drop(['datetime'],axis=1)\n",
    "target=predictors.shift(-1)[['high','low']][:-1]\n",
    "predictors=predictors[:-1]\n"
   ]
  },
  {
   "cell_type": "code",
   "execution_count": 186,
   "metadata": {},
   "outputs": [
    {
     "data": {
      "text/html": [
       "<div>\n",
       "<style>\n",
       "    .dataframe thead tr:only-child th {\n",
       "        text-align: right;\n",
       "    }\n",
       "\n",
       "    .dataframe thead th {\n",
       "        text-align: left;\n",
       "    }\n",
       "\n",
       "    .dataframe tbody tr th {\n",
       "        vertical-align: top;\n",
       "    }\n",
       "</style>\n",
       "<table border=\"1\" class=\"dataframe\">\n",
       "  <thead>\n",
       "    <tr style=\"text-align: right;\">\n",
       "      <th></th>\n",
       "      <th>open</th>\n",
       "      <th>high</th>\n",
       "      <th>low</th>\n",
       "      <th>close</th>\n",
       "      <th>vol</th>\n",
       "    </tr>\n",
       "  </thead>\n",
       "  <tbody>\n",
       "    <tr>\n",
       "      <th>4886</th>\n",
       "      <td>1281.54</td>\n",
       "      <td>1282.89</td>\n",
       "      <td>1281.47</td>\n",
       "      <td>1282.68</td>\n",
       "      <td>11307910.0</td>\n",
       "    </tr>\n",
       "    <tr>\n",
       "      <th>4887</th>\n",
       "      <td>1282.69</td>\n",
       "      <td>1283.14</td>\n",
       "      <td>1281.92</td>\n",
       "      <td>1282.12</td>\n",
       "      <td>11017460.0</td>\n",
       "    </tr>\n",
       "    <tr>\n",
       "      <th>4888</th>\n",
       "      <td>1282.06</td>\n",
       "      <td>1285.36</td>\n",
       "      <td>1282.06</td>\n",
       "      <td>1284.80</td>\n",
       "      <td>12692191.0</td>\n",
       "    </tr>\n",
       "    <tr>\n",
       "      <th>4889</th>\n",
       "      <td>1284.80</td>\n",
       "      <td>1284.80</td>\n",
       "      <td>1282.52</td>\n",
       "      <td>1283.14</td>\n",
       "      <td>12809211.0</td>\n",
       "    </tr>\n",
       "    <tr>\n",
       "      <th>4890</th>\n",
       "      <td>1283.20</td>\n",
       "      <td>1283.46</td>\n",
       "      <td>1282.92</td>\n",
       "      <td>1283.21</td>\n",
       "      <td>3378532.0</td>\n",
       "    </tr>\n",
       "  </tbody>\n",
       "</table>\n",
       "</div>"
      ],
      "text/plain": [
       "         open     high      low    close         vol\n",
       "4886  1281.54  1282.89  1281.47  1282.68  11307910.0\n",
       "4887  1282.69  1283.14  1281.92  1282.12  11017460.0\n",
       "4888  1282.06  1285.36  1282.06  1284.80  12692191.0\n",
       "4889  1284.80  1284.80  1282.52  1283.14  12809211.0\n",
       "4890  1283.20  1283.46  1282.92  1283.21   3378532.0"
      ]
     },
     "execution_count": 186,
     "metadata": {},
     "output_type": "execute_result"
    }
   ],
   "source": [
    "predictors.tail()"
   ]
  },
  {
   "cell_type": "code",
   "execution_count": 187,
   "metadata": {},
   "outputs": [
    {
     "data": {
      "text/html": [
       "<div>\n",
       "<style>\n",
       "    .dataframe thead tr:only-child th {\n",
       "        text-align: right;\n",
       "    }\n",
       "\n",
       "    .dataframe thead th {\n",
       "        text-align: left;\n",
       "    }\n",
       "\n",
       "    .dataframe tbody tr th {\n",
       "        vertical-align: top;\n",
       "    }\n",
       "</style>\n",
       "<table border=\"1\" class=\"dataframe\">\n",
       "  <thead>\n",
       "    <tr style=\"text-align: right;\">\n",
       "      <th></th>\n",
       "      <th>high</th>\n",
       "      <th>low</th>\n",
       "    </tr>\n",
       "  </thead>\n",
       "  <tbody>\n",
       "    <tr>\n",
       "      <th>4886</th>\n",
       "      <td>1283.14</td>\n",
       "      <td>1281.92</td>\n",
       "    </tr>\n",
       "    <tr>\n",
       "      <th>4887</th>\n",
       "      <td>1285.36</td>\n",
       "      <td>1282.06</td>\n",
       "    </tr>\n",
       "    <tr>\n",
       "      <th>4888</th>\n",
       "      <td>1284.80</td>\n",
       "      <td>1282.52</td>\n",
       "    </tr>\n",
       "    <tr>\n",
       "      <th>4889</th>\n",
       "      <td>1283.46</td>\n",
       "      <td>1282.92</td>\n",
       "    </tr>\n",
       "    <tr>\n",
       "      <th>4890</th>\n",
       "      <td>1285.80</td>\n",
       "      <td>1285.80</td>\n",
       "    </tr>\n",
       "  </tbody>\n",
       "</table>\n",
       "</div>"
      ],
      "text/plain": [
       "         high      low\n",
       "4886  1283.14  1281.92\n",
       "4887  1285.36  1282.06\n",
       "4888  1284.80  1282.52\n",
       "4889  1283.46  1282.92\n",
       "4890  1285.80  1285.80"
      ]
     },
     "execution_count": 187,
     "metadata": {},
     "output_type": "execute_result"
    }
   ],
   "source": [
    "target.tail()"
   ]
  },
  {
   "cell_type": "markdown",
   "metadata": {},
   "source": [
    "Predict with neural network\n",
    "Prepare train/test input"
   ]
  },
  {
   "cell_type": "code",
   "execution_count": 188,
   "metadata": {},
   "outputs": [],
   "source": [
    "import numpy as np\n",
    "from sklearn.preprocessing import StandardScaler, MinMaxScaler\n",
    "from keras.layers import Dense\n",
    "from keras.models import Sequential\n",
    "from keras.callbacks import EarlyStopping\n",
    "from sklearn.model_selection import train_test_split\n",
    "\n",
    "input_size = predictors.shape[1]\n",
    "window_size=24\n",
    "\n",
    "# Normalize and Split to train and test\n",
    "scaler=StandardScaler()\n",
    "predictors_norm=scaler.fit_transform(predictors)\n",
    "target_norm=scaler.fit_transform(target)\n",
    "X_train, X_test, y_train, y_test = train_test_split(predictors_norm, target_norm, test_size=0.3, shuffle=False)"
   ]
  },
  {
   "cell_type": "markdown",
   "metadata": {},
   "source": [
    "Create and fit the model"
   ]
  },
  {
   "cell_type": "code",
   "execution_count": 189,
   "metadata": {},
   "outputs": [],
   "source": [
    "from keras import optimizers\n",
    "\n",
    "# Create the model\n",
    "model=Sequential()\n",
    "model.add(Dense(input_size, batch_size=window_size))\n",
    "model.add(Dense(input_size*window_size, activation='relu'))\n",
    "model.add(Dense(input_size, activation='relu'))\n",
    "# High/Low prediction output\n",
    "model.add(Dense(2))\n",
    "\n",
    "#optimizer=optimizers.Adam()\n",
    "optimizer=optimizers.SGD()\n",
    "model.compile(optimizer=optimizer, loss='mse', metrics=['mse'])\n",
    "\n",
    "# Fit\n",
    "#early_stopping = EarlyStopping(patience=5)\n",
    "#history = model.fit(X_train, y_train, validation_split=0.3, epochs=20, callbacks=[early_stopping], shuffle=False, verbose=False)\n",
    "epochs=20\n",
    "history = model.fit(X_train, y_train, validation_split=0.3, epochs=epochs, shuffle=False, verbose=False)"
   ]
  },
  {
   "cell_type": "code",
   "execution_count": 190,
   "metadata": {},
   "outputs": [
    {
     "data": {
      "image/png": "[encoded data removed]",
      "text/plain": [
       "<matplotlib.figure.Figure at 0x7f35a9d04390>"
      ]
     },
     "metadata": {},
     "output_type": "display_data"
    }
   ],
   "source": [
    "#model.fit(X_train, y_train, validation_split=0.3, epochs=200, shuffle=True, verbose=True)\n",
    "#plt.plot(history.history['mean_squared_error'])\n",
    "\n",
    "plt.plot(history.history['mean_squared_error'][:])\n",
    "#plt.plot(history.history['acc'][5:])\n",
    "plt.title(\"Model training metrics\")\n",
    "plt.xlabel(\"Epoch\")\n",
    "plt.legend([\"mse\"])\n",
    "plt.show()\n",
    "# Predict"
   ]
  },
  {
   "cell_type": "markdown",
   "metadata": {},
   "source": [
    "Evaluate"
   ]
  },
  {
   "cell_type": "code",
   "execution_count": 191,
   "metadata": {},
   "outputs": [
    {
     "name": "stdout",
     "output_type": "stream",
     "text": [
      "mean_squared_error: 0.28%\n"
     ]
    }
   ],
   "source": [
    "scores=model.evaluate(X_test, y_test, verbose=False)\n",
    "print(\"%s: %.2f%%\" % (model.metrics_names[1], scores[1]*100))"
   ]
  },
  {
   "cell_type": "markdown",
   "metadata": {},
   "source": [
    "Predicted values EDA"
   ]
  },
  {
   "cell_type": "code",
   "execution_count": 192,
   "metadata": {},
   "outputs": [
    {
     "data": {
      "image/png": "[encoded data removed]",
      "text/plain": [
       "<matplotlib.figure.Figure at 0x7f35aa09deb8>"
      ]
     },
     "metadata": {},
     "output_type": "display_data"
    }
   ],
   "source": [
    "y=model.predict(X_test)\n",
    "#from mpl_finance import candlestick_ohlc\n",
    "plt.style.use('seaborn')\n",
    "#fig,ax = plt.subplots()\n",
    "#quotes=df.reset_index()\n",
    "#quotes.columns=['date','open','high','low','close','vol']\n",
    "#quotes=quotes[['date','open','high','low','close']]\n",
    "#quotes['date'] = quotes['date'].apply(mdates.date2num)\n",
    "#candlestick_ohlc(ax,quotes.values, width=.001, colorup='blue', colordown='green')\n",
    "#candlestick_ohlc(ax,quotes.values, width=.03, alpha=0.5, colorup='black', colordown='red')\n",
    "\n",
    "last_points=100\n",
    "original=pd.DataFrame(scaler.inverse_transform(y_test), columns=['high', 'low']).reset_index()[-last_points:]\n",
    "plt.plot(original['high'], marker='.', linestyle='solid', color='b', alpha=0.7, linewidth=1)\n",
    "plt.plot(original['low'], marker='.', linestyle='solid', color='green', alpha=0.7, linewidth=1)\n",
    "\n",
    "actual=pd.DataFrame(scaler.inverse_transform(y), columns=['high','low']).reset_index()[-last_points:]\n",
    "plt.plot(actual['high'], marker='.', linestyle='dashed', color='b', alpha=0.3, linewidth=1)\n",
    "plt.plot(actual['low'], marker='.', linestyle='dashed', color='green', alpha=0.3, linewidth=1)\n",
    "\n",
    "#plt.ylim(min(original['high']),max(original['high']))\n",
    "#plt.xlim(1380, 1400)\n",
    "\n",
    "plt.title('Predicted high/low bar value')\n",
    "plt.xlabel('Time')\n",
    "plt.xticks(rotation=45)\n",
    "plt.ylabel('Price')\n",
    "plt.legend([\"high\", \"low\", \"predicted high\", \"predicted low\"])\n",
    "plt.show()"
   ]
  },
  {
   "cell_type": "markdown",
   "metadata": {},
   "source": []
  },
  {
   "cell_type": "markdown",
   "metadata": {},
   "source": [
    ".. To be continue ..."
   ]
  },
  {
   "cell_type": "code",
   "execution_count": null,
   "metadata": {},
   "outputs": [],
   "source": []
  },
  {
   "cell_type": "code",
   "execution_count": null,
   "metadata": {},
   "outputs": [],
   "source": []
  },
  {
   "cell_type": "code",
   "execution_count": null,
   "metadata": {},
   "outputs": [],
   "source": []
  },
  {
   "cell_type": "code",
   "execution_count": null,
   "metadata": {},
   "outputs": [],
   "source": []
  },
  {
   "cell_type": "code",
   "execution_count": null,
   "metadata": {},
   "outputs": [],
   "source": []
  },
  {
   "cell_type": "code",
   "execution_count": null,
   "metadata": {},
   "outputs": [],
   "source": []
  },
  {
   "cell_type": "code",
   "execution_count": null,
   "metadata": {},
   "outputs": [],
   "source": []
  }
 ],
 "metadata": {
  "kernelspec": {
   "display_name": "Python 3",
   "language": "python",
   "name": "python3"
  },
  "language_info": {
   "codemirror_mode": {
    "name": "ipython",
    "version": 3
   },
   "file_extension": ".py",
   "mimetype": "text/x-python",
   "name": "python",
   "nbconvert_exporter": "python",
   "pygments_lexer": "ipython3",
   "version": "3.6.3"
  }
 },
 "nbformat": 4,
 "nbformat_minor": 2
}

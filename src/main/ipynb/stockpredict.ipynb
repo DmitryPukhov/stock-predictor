{
 "cells": [
  {
   "cell_type": "markdown",
   "metadata": {},
   "source": [
    "# Stock exchange prediction for fun"
   ]
  },
  {
   "cell_type": "markdown",
   "metadata": {},
   "source": [
    "Import libraries"
   ]
  },
  {
   "cell_type": "code",
   "execution_count": 2,
   "metadata": {},
   "outputs": [],
   "source": [
    "import pandas as pd\n",
    "import matplotlib.pyplot as plt\n",
    "import matplotlib.dates as mdates\n",
    "import seaborn as sns\n"
   ]
  },
  {
   "cell_type": "markdown",
   "metadata": {},
   "source": [
    "Read and prepare OHLC data, 5 minute bars"
   ]
  },
  {
   "cell_type": "code",
   "execution_count": 228,
   "metadata": {},
   "outputs": [
    {
     "data": {
      "text/html": [
       "<div>\n",
       "<style scoped>\n",
       "    .dataframe tbody tr th:only-of-type {\n",
       "        vertical-align: middle;\n",
       "    }\n",
       "\n",
       "    .dataframe tbody tr th {\n",
       "        vertical-align: top;\n",
       "    }\n",
       "\n",
       "    .dataframe thead th {\n",
       "        text-align: right;\n",
       "    }\n",
       "</style>\n",
       "<table border=\"1\" class=\"dataframe\">\n",
       "  <thead>\n",
       "    <tr style=\"text-align: right;\">\n",
       "      <th></th>\n",
       "      <th>open</th>\n",
       "      <th>high</th>\n",
       "      <th>low</th>\n",
       "      <th>close</th>\n",
       "      <th>vol</th>\n",
       "    </tr>\n",
       "    <tr>\n",
       "      <th>datetime</th>\n",
       "      <th></th>\n",
       "      <th></th>\n",
       "      <th></th>\n",
       "      <th></th>\n",
       "      <th></th>\n",
       "    </tr>\n",
       "  </thead>\n",
       "  <tbody>\n",
       "    <tr>\n",
       "      <th>2018-03-13 18:25:00</th>\n",
       "      <td>1282.69</td>\n",
       "      <td>1283.14</td>\n",
       "      <td>1281.92</td>\n",
       "      <td>1282.12</td>\n",
       "      <td>11017460</td>\n",
       "    </tr>\n",
       "    <tr>\n",
       "      <th>2018-03-13 18:30:00</th>\n",
       "      <td>1282.06</td>\n",
       "      <td>1285.36</td>\n",
       "      <td>1282.06</td>\n",
       "      <td>1284.80</td>\n",
       "      <td>12692191</td>\n",
       "    </tr>\n",
       "    <tr>\n",
       "      <th>2018-03-13 18:35:00</th>\n",
       "      <td>1284.80</td>\n",
       "      <td>1284.80</td>\n",
       "      <td>1282.52</td>\n",
       "      <td>1283.14</td>\n",
       "      <td>12809211</td>\n",
       "    </tr>\n",
       "    <tr>\n",
       "      <th>2018-03-13 18:40:00</th>\n",
       "      <td>1283.20</td>\n",
       "      <td>1283.46</td>\n",
       "      <td>1282.92</td>\n",
       "      <td>1283.21</td>\n",
       "      <td>3378532</td>\n",
       "    </tr>\n",
       "    <tr>\n",
       "      <th>2018-03-13 18:50:00</th>\n",
       "      <td>1285.80</td>\n",
       "      <td>1285.80</td>\n",
       "      <td>1285.80</td>\n",
       "      <td>1285.80</td>\n",
       "      <td>31243913</td>\n",
       "    </tr>\n",
       "  </tbody>\n",
       "</table>\n",
       "</div>"
      ],
      "text/plain": [
       "                        open     high      low    close       vol\n",
       "datetime                                                         \n",
       "2018-03-13 18:25:00  1282.69  1283.14  1281.92  1282.12  11017460\n",
       "2018-03-13 18:30:00  1282.06  1285.36  1282.06  1284.80  12692191\n",
       "2018-03-13 18:35:00  1284.80  1284.80  1282.52  1283.14  12809211\n",
       "2018-03-13 18:40:00  1283.20  1283.46  1282.92  1283.21   3378532\n",
       "2018-03-13 18:50:00  1285.80  1285.80  1285.80  1285.80  31243913"
      ]
     },
     "execution_count": 228,
     "metadata": {},
     "output_type": "execute_result"
    }
   ],
   "source": [
    "# Read 1M OHLCV data from file instead of pdr.DataReader('RTSI','moex',start,end) because moex network source doesn't allow often downloads\n",
    "df=pd.read_csv(\"/home/dima/projects/stockpredict/data/RI.RTSI_180101_180313.csv\", \n",
    "               parse_dates={'datetime':[2,3]}, \n",
    "               index_col='datetime')\n",
    "#df=df.loc['2018-01-09']\n",
    "df=df[['<OPEN>','<HIGH>','<LOW>','<CLOSE>','<VOL>']]\n",
    "df.columns=['open','high','low','close','vol']\n",
    "# Resample 1Min OHLC to 5Min OHLC\n",
    "df=df.resample('5Min').agg({\n",
    "        'open': 'first', \n",
    "        'high': 'max', \n",
    "        'low': 'min', \n",
    "        'close': 'last',\n",
    "        'vol': 'sum'})\n",
    "df=df.dropna()\n",
    "df.tail()"
   ]
  },
  {
   "cell_type": "markdown",
   "metadata": {},
   "source": [
    "Prepare predictors from rolling window. Add previous records as columns to the right\n"
   ]
  },
  {
   "cell_type": "code",
   "execution_count": 229,
   "metadata": {},
   "outputs": [],
   "source": [
    "predictors=df.reset_index().drop(['datetime'],axis=1)\n",
    "target=predictors.shift(-1)[['high','low']][:-1]\n",
    "predictors=predictors[:-1]\n"
   ]
  },
  {
   "cell_type": "code",
   "execution_count": 230,
   "metadata": {},
   "outputs": [
    {
     "data": {
      "text/html": [
       "<div>\n",
       "<style scoped>\n",
       "    .dataframe tbody tr th:only-of-type {\n",
       "        vertical-align: middle;\n",
       "    }\n",
       "\n",
       "    .dataframe tbody tr th {\n",
       "        vertical-align: top;\n",
       "    }\n",
       "\n",
       "    .dataframe thead th {\n",
       "        text-align: right;\n",
       "    }\n",
       "</style>\n",
       "<table border=\"1\" class=\"dataframe\">\n",
       "  <thead>\n",
       "    <tr style=\"text-align: right;\">\n",
       "      <th></th>\n",
       "      <th>open</th>\n",
       "      <th>high</th>\n",
       "      <th>low</th>\n",
       "      <th>close</th>\n",
       "      <th>vol</th>\n",
       "    </tr>\n",
       "  </thead>\n",
       "  <tbody>\n",
       "    <tr>\n",
       "      <th>4886</th>\n",
       "      <td>1281.54</td>\n",
       "      <td>1282.89</td>\n",
       "      <td>1281.47</td>\n",
       "      <td>1282.68</td>\n",
       "      <td>11307910</td>\n",
       "    </tr>\n",
       "    <tr>\n",
       "      <th>4887</th>\n",
       "      <td>1282.69</td>\n",
       "      <td>1283.14</td>\n",
       "      <td>1281.92</td>\n",
       "      <td>1282.12</td>\n",
       "      <td>11017460</td>\n",
       "    </tr>\n",
       "    <tr>\n",
       "      <th>4888</th>\n",
       "      <td>1282.06</td>\n",
       "      <td>1285.36</td>\n",
       "      <td>1282.06</td>\n",
       "      <td>1284.80</td>\n",
       "      <td>12692191</td>\n",
       "    </tr>\n",
       "    <tr>\n",
       "      <th>4889</th>\n",
       "      <td>1284.80</td>\n",
       "      <td>1284.80</td>\n",
       "      <td>1282.52</td>\n",
       "      <td>1283.14</td>\n",
       "      <td>12809211</td>\n",
       "    </tr>\n",
       "    <tr>\n",
       "      <th>4890</th>\n",
       "      <td>1283.20</td>\n",
       "      <td>1283.46</td>\n",
       "      <td>1282.92</td>\n",
       "      <td>1283.21</td>\n",
       "      <td>3378532</td>\n",
       "    </tr>\n",
       "  </tbody>\n",
       "</table>\n",
       "</div>"
      ],
      "text/plain": [
       "         open     high      low    close       vol\n",
       "4886  1281.54  1282.89  1281.47  1282.68  11307910\n",
       "4887  1282.69  1283.14  1281.92  1282.12  11017460\n",
       "4888  1282.06  1285.36  1282.06  1284.80  12692191\n",
       "4889  1284.80  1284.80  1282.52  1283.14  12809211\n",
       "4890  1283.20  1283.46  1282.92  1283.21   3378532"
      ]
     },
     "execution_count": 230,
     "metadata": {},
     "output_type": "execute_result"
    }
   ],
   "source": [
    "predictors.tail()"
   ]
  },
  {
   "cell_type": "code",
   "execution_count": 231,
   "metadata": {},
   "outputs": [
    {
     "data": {
      "text/html": [
       "<div>\n",
       "<style scoped>\n",
       "    .dataframe tbody tr th:only-of-type {\n",
       "        vertical-align: middle;\n",
       "    }\n",
       "\n",
       "    .dataframe tbody tr th {\n",
       "        vertical-align: top;\n",
       "    }\n",
       "\n",
       "    .dataframe thead th {\n",
       "        text-align: right;\n",
       "    }\n",
       "</style>\n",
       "<table border=\"1\" class=\"dataframe\">\n",
       "  <thead>\n",
       "    <tr style=\"text-align: right;\">\n",
       "      <th></th>\n",
       "      <th>high</th>\n",
       "      <th>low</th>\n",
       "    </tr>\n",
       "  </thead>\n",
       "  <tbody>\n",
       "    <tr>\n",
       "      <th>4886</th>\n",
       "      <td>1283.14</td>\n",
       "      <td>1281.92</td>\n",
       "    </tr>\n",
       "    <tr>\n",
       "      <th>4887</th>\n",
       "      <td>1285.36</td>\n",
       "      <td>1282.06</td>\n",
       "    </tr>\n",
       "    <tr>\n",
       "      <th>4888</th>\n",
       "      <td>1284.80</td>\n",
       "      <td>1282.52</td>\n",
       "    </tr>\n",
       "    <tr>\n",
       "      <th>4889</th>\n",
       "      <td>1283.46</td>\n",
       "      <td>1282.92</td>\n",
       "    </tr>\n",
       "    <tr>\n",
       "      <th>4890</th>\n",
       "      <td>1285.80</td>\n",
       "      <td>1285.80</td>\n",
       "    </tr>\n",
       "  </tbody>\n",
       "</table>\n",
       "</div>"
      ],
      "text/plain": [
       "         high      low\n",
       "4886  1283.14  1281.92\n",
       "4887  1285.36  1282.06\n",
       "4888  1284.80  1282.52\n",
       "4889  1283.46  1282.92\n",
       "4890  1285.80  1285.80"
      ]
     },
     "execution_count": 231,
     "metadata": {},
     "output_type": "execute_result"
    }
   ],
   "source": [
    "target.tail()"
   ]
  },
  {
   "cell_type": "markdown",
   "metadata": {},
   "source": [
    "Predict with neural network"
   ]
  },
  {
   "cell_type": "code",
   "execution_count": 247,
   "metadata": {},
   "outputs": [
    {
     "name": "stdout",
     "output_type": "stream",
     "text": [
      "Train on 2396 samples, validate on 1027 samples\n",
      "Epoch 1/20\n",
      "2396/2396 [==============================] - 1s 434us/step - loss: 4737102590847.7861 - acc: 1.0000 - val_loss: 759559422015.8131 - val_acc: 1.0000\n",
      "Epoch 2/20\n",
      "2396/2396 [==============================] - 0s 37us/step - loss: 232472341534.7713 - acc: 1.0000 - val_loss: 11351354006.0604 - val_acc: 1.0000\n",
      "Epoch 3/20\n",
      "2396/2396 [==============================] - 0s 36us/step - loss: 27464473690.7112 - acc: 0.2679 - val_loss: 4995569420.2142 - val_acc: 9.7371e-04\n",
      "Epoch 4/20\n",
      "2396/2396 [==============================] - 0s 36us/step - loss: 6976610358.4374 - acc: 0.6127 - val_loss: 2850869707.6534 - val_acc: 1.0000\n",
      "Epoch 5/20\n",
      "2396/2396 [==============================] - 0s 37us/step - loss: 1566829268.7579 - acc: 0.7496 - val_loss: 1164645091.2093 - val_acc: 9.7371e-04\n",
      "Epoch 6/20\n",
      "2396/2396 [==============================] - 0s 37us/step - loss: 1259234036.4891 - acc: 0.4386 - val_loss: 1116303479.7741 - val_acc: 1.0000\n",
      "Epoch 7/20\n",
      "2396/2396 [==============================] - 0s 37us/step - loss: 2982885164.5309 - acc: 0.2145 - val_loss: 819190062.6134 - val_acc: 9.7371e-04\n",
      "Epoch 8/20\n",
      "2396/2396 [==============================] - 0s 36us/step - loss: 308816769.4073 - acc: 0.3773 - val_loss: 278004160.9659 - val_acc: 1.0000\n",
      "Epoch 9/20\n",
      "2396/2396 [==============================] - 0s 37us/step - loss: 138678254.6561 - acc: 0.6866 - val_loss: 160318622.3642 - val_acc: 9.7371e-04\n",
      "Epoch 10/20\n",
      "2396/2396 [==============================] - 0s 38us/step - loss: 218488906.3840 - acc: 0.6248 - val_loss: 97190764.6349 - val_acc: 1.0000\n",
      "Epoch 11/20\n",
      "2396/2396 [==============================] - 0s 36us/step - loss: 17200119.9420 - acc: 0.9975 - val_loss: 1963632.2724 - val_acc: 0.6173\n",
      "Epoch 12/20\n",
      "2396/2396 [==============================] - 0s 37us/step - loss: 3784565.6590 - acc: 0.9954 - val_loss: 1295334.6106 - val_acc: 1.0000\n",
      "Epoch 13/20\n",
      "2396/2396 [==============================] - 0s 38us/step - loss: 2482903.3193 - acc: 0.9349 - val_loss: 1512625.7001 - val_acc: 0.9708\n",
      "Epoch 14/20\n",
      "2396/2396 [==============================] - 0s 37us/step - loss: 2658634.2350 - acc: 0.9833 - val_loss: 4065063.0779 - val_acc: 0.9854\n",
      "Epoch 15/20\n",
      "2396/2396 [==============================] - 0s 38us/step - loss: 1643045.0182 - acc: 0.9992 - val_loss: 546969.1793 - val_acc: 0.9912\n",
      "Epoch 16/20\n",
      "2396/2396 [==============================] - 0s 37us/step - loss: 3258896.9583 - acc: 0.9587 - val_loss: 7078082.1353 - val_acc: 1.0000\n",
      "Epoch 17/20\n",
      "2396/2396 [==============================] - 0s 38us/step - loss: 3443924.0221 - acc: 0.9220 - val_loss: 2479904.3661 - val_acc: 0.4284\n",
      "Epoch 18/20\n",
      "2396/2396 [==============================] - 0s 37us/step - loss: 3293863.0762 - acc: 0.8902 - val_loss: 1080934.7292 - val_acc: 1.0000\n",
      "Epoch 19/20\n",
      "2396/2396 [==============================] - 0s 37us/step - loss: 4020968.8456 - acc: 0.9929 - val_loss: 4020010.5389 - val_acc: 1.0000\n",
      "Epoch 20/20\n",
      "2396/2396 [==============================] - 0s 37us/step - loss: 3193858.1448 - acc: 0.9741 - val_loss: 7817864.0623 - val_acc: 0.7722\n"
     ]
    }
   ],
   "source": [
    "import numpy as np\n",
    "from keras.layers import Dense\n",
    "from keras.models import Sequential\n",
    "from keras.callbacks import EarlyStopping\n",
    "from sklearn.model_selection import train_test_split\n",
    "\n",
    "# Split to train and test\n",
    "X_train, X_test, y_train, y_test = train_test_split(predictors, target, test_size=0.3, shuffle=False)\n",
    "\n",
    "# Create the model\n",
    "model=Sequential()\n",
    "n_cols = predictors.shape[1]\n",
    "##model.add(Dense(predictors.columns.size, activation='relu', input_shape=(n_cols,10)))\n",
    "model.add(Dense(predictors.columns.size, batch_size=10))\n",
    "model.add(Dense(int(predictors.columns.size), activation='relu'))\n",
    "# High/Low prediction output\n",
    "model.add(Dense(2))\n",
    "\n",
    "model.compile(optimizer='adam', loss='mean_squared_error', metrics=['accuracy'])\n",
    "\n",
    "# Fit\n",
    "#early_stopping = EarlyStopping(patience=2)\n",
    "#model.fit(X_train.values, y_train.values, validation_split=0.3, epochs=30, callbacks=[early_stopping], shuffle=False, verbose=True)\n",
    "model.fit(X_train.values, y_train.values, validation_split=0.3, epochs=20, shuffle=True, verbose=True)\n",
    "\n",
    "# Predict\n",
    "y=model.predict(X_test)"
   ]
  },
  {
   "cell_type": "code",
   "execution_count": 245,
   "metadata": {},
   "outputs": [
    {
     "data": {
      "image/png": "[encoded data removed]",
      "text/plain": [
       "<matplotlib.figure.Figure at 0x7fe5be398fd0>"
      ]
     },
     "metadata": {},
     "output_type": "display_data"
    }
   ],
   "source": [
    "\n",
    "\n",
    "#from mpl_finance import candlestick_ohlc\n",
    "plt.style.use('seaborn')\n",
    "#fig,ax = plt.subplots()\n",
    "#quotes=df.reset_index()\n",
    "#quotes.columns=['date','open','high','low','close','vol']\n",
    "#quotes=quotes[['date','open','high','low','close']]\n",
    "#quotes['date'] = quotes['date'].apply(mdates.date2num)\n",
    "#candlestick_ohlc(ax,quotes.values, width=.001, colorup='blue', colordown='green')\n",
    "#candlestick_ohlc(ax,quotes.values, width=.03, alpha=0.5, colorup='black', colordown='red')\n",
    "\n",
    "#plt.plot(df.index, df.high, marker='.', linestyle='solid', color='b', alpha=0.5, linewidth=1)\n",
    "#plt.plot(df.index, df.low, marker='.', linestyle='solid', color='green', alpha=0.5, linewidth=1)\n",
    "last_points=100\n",
    "original=pd.DataFrame(y_test).reset_index()[-last_points:]\n",
    "plt.plot(original['high'], marker='.', linestyle='solid', color='b', alpha=0.7, linewidth=1)\n",
    "plt.plot(original['low'], marker='.', linestyle='solid', color='green', alpha=0.7, linewidth=1)\n",
    "\n",
    "actual=pd.DataFrame(y, columns=['high','low']).reset_index()[-last_points:]\n",
    "plt.plot(actual['high'], marker='.', linestyle='solid', color='b', alpha=0.3, linewidth=1)\n",
    "plt.plot(actual['low'], marker='.', linestyle='solid', color='green', alpha=0.3, linewidth=1)\n",
    "\n",
    "#plt.ylim(min(original['high']),max(original['high']))\n",
    "\n",
    "plt.title('Predicted price')\n",
    "plt.xlabel('Time')\n",
    "plt.xticks(rotation=45)\n",
    "plt.ylabel('Price')\n",
    "plt.legend()\n",
    "plt.show()"
   ]
  },
  {
   "cell_type": "markdown",
   "metadata": {},
   "source": [
    "The first result looks not very encouraging, doesn't it? :)"
   ]
  },
  {
   "cell_type": "markdown",
   "metadata": {},
   "source": [
    ".. To be continue ..."
   ]
  },
  {
   "cell_type": "code",
   "execution_count": null,
   "metadata": {},
   "outputs": [],
   "source": []
  },
  {
   "cell_type": "code",
   "execution_count": null,
   "metadata": {},
   "outputs": [],
   "source": []
  },
  {
   "cell_type": "code",
   "execution_count": null,
   "metadata": {},
   "outputs": [],
   "source": []
  },
  {
   "cell_type": "code",
   "execution_count": null,
   "metadata": {},
   "outputs": [],
   "source": []
  },
  {
   "cell_type": "code",
   "execution_count": null,
   "metadata": {},
   "outputs": [],
   "source": []
  },
  {
   "cell_type": "code",
   "execution_count": null,
   "metadata": {},
   "outputs": [],
   "source": []
  },
  {
   "cell_type": "code",
   "execution_count": null,
   "metadata": {},
   "outputs": [],
   "source": []
  }
 ],
 "metadata": {
  "kernelspec": {
   "display_name": "Python 3",
   "language": "python",
   "name": "python3"
  },
  "language_info": {
   "codemirror_mode": {
    "name": "ipython",
    "version": 3
   },
   "file_extension": ".py",
   "mimetype": "text/x-python",
   "name": "python",
   "nbconvert_exporter": "python",
   "pygments_lexer": "ipython3",
   "version": "3.6.4"
  }
 },
 "nbformat": 4,
 "nbformat_minor": 2
}
